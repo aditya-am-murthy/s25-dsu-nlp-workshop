{
 "cells": [
  {
   "cell_type": "markdown",
   "metadata": {},
   "source": [
    "# Introduction to NLP: Tokenization and Sentiment Analysis\n",
    "\n",
    "Welcome to this introductory tutorial on Natural Language Processing (NLP)! In this notebook, we'll learn about two fundamental NLP tasks:\n",
    "1. Tokenization - breaking text into smaller units (words, sentences)\n",
    "2. Sentiment Analysis - determining the emotional tone of text\n",
    "\n",
    "Let's start by setting up our environment and importing the necessary libraries."
   ]
  },
  {
   "cell_type": "code",
   "execution_count": null,
   "metadata": {},
   "source": [
    "# Import required libraries\n",
    "import nltk\n",
    "import pandas as pd\n",
    "import numpy as np\n",
    "from nltk.tokenize import word_tokenize, sent_tokenize\n",
    "from nltk.corpus import stopwords\n",
    "from nltk.sentiment import SentimentIntensityAnalyzer\n",
    "\n",
    "# Download required NLTK data\n",
    "nltk.download('punkt')\n",
    "nltk.download('stopwords')\n",
    "nltk.download('vader_lexicon')\n",
    "\n",
    "print(\"Setup complete! Let's begin our NLP journey.\")"
   ]
  },
  {
   "cell_type": "markdown",
   "metadata": {},
   "source": [
    "## Part 1: Tokenization\n",
    "\n",
    "Tokenization is the process of breaking down text into smaller units called tokens. These tokens can be words, sentences, or even characters. Let's explore different types of tokenization.\n",
    "\n",
    "### Word Tokenization\n",
    "\n",
    "Word tokenization splits text into individual words. Let's see how it works:"
   ]
  },
  {
   "cell_type": "code",
   "execution_count": null,
   "metadata": {},
   "source": [
    "# Example text\n",
    "text = \"Hello! This is a sample text. We're learning NLP today.\"\n",
    "\n",
    "# Word tokenization using NLTK\n",
    "words = word_tokenize(text)\n",
    "print(\"Original text:\", text)\n",
    "print(\"\\nTokenized words:\", words)"
   ]
  },
  {
   "cell_type": "markdown",
   "metadata": {},
   "source": [
    "### Sentence Tokenization\n",
    "\n",
    "Sentence tokenization splits text into individual sentences. This is useful when you want to analyze text at the sentence level:"
   ]
  },
  {
   "cell_type": "code",
   "execution_count": null,
   "metadata": {},
   "source": [
    "# Sentence tokenization using NLTK\n",
    "sentences = sent_tokenize(text)\n",
    "print(\"Original text:\", text)\n",
    "print(\"\\nTokenized sentences:\", sentences)"
   ]
  },
  {
   "cell_type": "markdown",
   "metadata": {},
   "source": [
    "### Practice Exercise: Tokenization\n",
    "\n",
    "Now it's your turn! Try tokenizing the following text into words and sentences:"
   ]
  },
  {
   "cell_type": "code",
   "execution_count": null,
   "metadata": {},
   "source": [
    "# Practice text\n",
    "practice_text = \"NLP is fascinating! We can analyze text in many ways. What do you think?\"\n",
    "\n",
    "# TODO: Tokenize the text into words\n",
    "words = word_tokenize(practice_text)\n",
    "print(\"Tokenized words:\", words)\n",
    "\n",
    "# TODO: Tokenize the text into sentences\n",
    "sentences = sent_tokenize(practice_text)\n",
    "print(\"\\nTokenized sentences:\", sentences)"
   ]
  },
  {
   "cell_type": "markdown",
   "metadata": {},
   "source": [
    "## Part 2: Sentiment Analysis\n",
    "\n",
    "Sentiment analysis is the process of determining the emotional tone of text. We'll use NLTK's VADER (Valence Aware Dictionary and sEntiment Reasoner) for this task.\n",
    "\n",
    "### Basic Sentiment Analysis\n",
    "\n",
    "Let's analyze the sentiment of some example texts:"
   ]
  },
  {
   "cell_type": "code",
   "execution_count": null,
   "metadata": {},
   "source": [
    "# Initialize the sentiment analyzer\n",
    "sia = SentimentIntensityAnalyzer()\n",
    "\n",
    "# Example texts\n",
    "texts = [\n",
    "    \"I love this product! It's amazing.\",\n",
    "    \"This is the worst experience ever.\",\n",
    "    \"The movie was okay, nothing special.\"\n",
    "]\n",
    "\n",
    "# Analyze sentiment for each text\n",
    "for text in texts:\n",
    "    scores = sia.polarity_scores(text)\n",
    "    print(f\"\\nText: {text}\")\n",
    "    print(f\"Sentiment scores: {scores}\")\n",
    "    print(f\"Overall sentiment: {'Positive' if scores['compound'] > 0 else 'Negative' if scores['compound'] < 0 else 'Neutral'}\")"
   ]
  },
  {
   "cell_type": "markdown",
   "metadata": {},
   "source": [
    "### Understanding Sentiment Scores\n",
    "\n",
    "The VADER sentiment analyzer provides four scores:\n",
    "1. `neg`: Negative sentiment score (0 to 1)\n",
    "2. `neu`: Neutral sentiment score (0 to 1)\n",
    "3. `pos`: Positive sentiment score (0 to 1)\n",
    "4. `compound`: Normalized compound score (-1 to 1)\n",
    "\n",
    "### Practice Exercise: Sentiment Analysis\n",
    "\n",
    "Now it's your turn! Analyze the sentiment of these texts:"
   ]
  },
  {
   "cell_type": "code",
   "execution_count": null,
   "metadata": {},
   "source": [
    "# Practice texts\n",
    "practice_texts = [\n",
    "    \"The weather is beautiful today!\",\n",
    "    \"I'm feeling a bit tired.\",\n",
    "    \"This restaurant has terrible service.\"\n",
    "]\n",
    "\n",
    "# TODO: Analyze sentiment for each text\n",
    "for text in practice_texts:\n",
    "    scores = sia.polarity_scores(text)\n",
    "    print(f\"\\nText: {text}\")\n",
    "    print(f\"Sentiment scores: {scores}\")\n",
    "    print(f\"Overall sentiment: {'Positive' if scores['compound'] > 0 else 'Negative' if scores['compound'] < 0 else 'Neutral'}\")"
   ]
  },
  {
   "cell_type": "markdown",
   "metadata": {},
   "source": [
    "## Solutions\n",
    "\n",
    "Here are the solutions to the practice exercises:\n",
    "\n",
    "### Tokenization Solution\n",
    "```python\n",
    "# Word tokenization\n",
    "words = word_tokenize(practice_text)\n",
    "# Result: ['NLP', 'is', 'fascinating', '!', 'We', 'can', 'analyze', 'text', 'in', 'many', 'ways', '.', 'What', 'do', 'you', 'think', '?']\n",
    "\n",
    "# Sentence tokenization\n",
    "sentences = sent_tokenize(practice_text)\n",
    "# Result: ['NLP is fascinating!', 'We can analyze text in many ways.', 'What do you think?']\n",
    "```\n",
    "\n",
    "### Sentiment Analysis Solution\n",
    "```python\n",
    "for text in practice_texts:\n",
    "    scores = sia.polarity_scores(text)\n",
    "    print(f\"\\nText: {text}\")\n",
    "    print(f\"Sentiment scores: {scores}\")\n",
    "    print(f\"Overall sentiment: {'Positive' if scores['compound'] > 0 else 'Negative' if scores['compound'] < 0 else 'Neutral'}\")\n",
    "```\n",
    "\n",
    "Expected results:\n",
    "1. \"The weather is beautiful today!\" - Positive sentiment\n",
    "2. \"I'm feeling a bit tired.\" - Neutral sentiment\n",
    "3. \"This restaurant has terrible service.\" - Negative sentiment"
   ]
  }
 ],
 "metadata": {
  "kernelspec": {
   "display_name": "Python 3",
   "language": "python",
   "name": "python3"
  },
  "language_info": {
   "codemirror_mode": {
    "name": "ipython",
    "version": 3
   },
   "file_extension": ".py",
   "mimetype": "text/x-python",
   "name": "python",
   "nbconvert_exporter": "python",
   "pygments_lexer": "ipython3",
   "version": "3.8.0"
  }
 },
 "nbformat": 4,
 "nbformat_minor": 4
}